{
 "cells": [
  {
   "cell_type": "markdown",
   "id": "4b74c1d3",
   "metadata": {},
   "source": [
    "## Task 1: Set up enviroment"
   ]
  },
  {
   "cell_type": "code",
   "execution_count": 1,
   "id": "b193e07b",
   "metadata": {},
   "outputs": [],
   "source": [
    "## Import library\n",
    "import os, glob\n",
    "import pandas as pd\n",
    "import numpy as np\n",
    "import matplotlib.pyplot as plt"
   ]
  },
  {
   "cell_type": "code",
   "execution_count": 2,
   "id": "0635a066",
   "metadata": {},
   "outputs": [],
   "source": [
    "# Import and merged into 1 files\n",
    "\n",
    "path = 'D:\\Dataa\\Python\\Casestudy\\casestudy1'\n",
    "all_files = glob.glob(os.path.join(path, \"sales2019_*.csv\"))\n",
    "df_from_each_file = (pd.read_csv(f, sep=',') for f in all_files)\n",
    "df   = pd.concat(df_from_each_file, ignore_index=True)\n",
    "df.to_csv( \"merged.csv\")"
   ]
  },
  {
   "cell_type": "code",
   "execution_count": 3,
   "id": "946f4981",
   "metadata": {},
   "outputs": [
    {
     "data": {
      "text/html": [
       "<div>\n",
       "<style scoped>\n",
       "    .dataframe tbody tr th:only-of-type {\n",
       "        vertical-align: middle;\n",
       "    }\n",
       "\n",
       "    .dataframe tbody tr th {\n",
       "        vertical-align: top;\n",
       "    }\n",
       "\n",
       "    .dataframe thead th {\n",
       "        text-align: right;\n",
       "    }\n",
       "</style>\n",
       "<table border=\"1\" class=\"dataframe\">\n",
       "  <thead>\n",
       "    <tr style=\"text-align: right;\">\n",
       "      <th></th>\n",
       "      <th>Order ID</th>\n",
       "      <th>Product</th>\n",
       "      <th>Quantity Ordered</th>\n",
       "      <th>Price Each</th>\n",
       "      <th>Order Date</th>\n",
       "      <th>Purchase Address</th>\n",
       "    </tr>\n",
       "  </thead>\n",
       "  <tbody>\n",
       "    <tr>\n",
       "      <th>0</th>\n",
       "      <td>141234</td>\n",
       "      <td>iPhone</td>\n",
       "      <td>1</td>\n",
       "      <td>700</td>\n",
       "      <td>01/22/19 21:25</td>\n",
       "      <td>944 Walnut St, Boston, MA 02215</td>\n",
       "    </tr>\n",
       "    <tr>\n",
       "      <th>1</th>\n",
       "      <td>141235</td>\n",
       "      <td>Lightning Charging Cable</td>\n",
       "      <td>1</td>\n",
       "      <td>14.95</td>\n",
       "      <td>01/28/19 14:15</td>\n",
       "      <td>185 Maple St, Portland, OR 97035</td>\n",
       "    </tr>\n",
       "    <tr>\n",
       "      <th>2</th>\n",
       "      <td>141236</td>\n",
       "      <td>Wired Headphones</td>\n",
       "      <td>2</td>\n",
       "      <td>11.99</td>\n",
       "      <td>01/17/19 13:33</td>\n",
       "      <td>538 Adams St, San Francisco, CA 94016</td>\n",
       "    </tr>\n",
       "    <tr>\n",
       "      <th>3</th>\n",
       "      <td>141237</td>\n",
       "      <td>27in FHD Monitor</td>\n",
       "      <td>1</td>\n",
       "      <td>149.99</td>\n",
       "      <td>01/05/19 20:33</td>\n",
       "      <td>738 10th St, Los Angeles, CA 90001</td>\n",
       "    </tr>\n",
       "    <tr>\n",
       "      <th>4</th>\n",
       "      <td>141238</td>\n",
       "      <td>Wired Headphones</td>\n",
       "      <td>1</td>\n",
       "      <td>11.99</td>\n",
       "      <td>01/25/19 11:59</td>\n",
       "      <td>387 10th St, Austin, TX 73301</td>\n",
       "    </tr>\n",
       "    <tr>\n",
       "      <th>...</th>\n",
       "      <td>...</td>\n",
       "      <td>...</td>\n",
       "      <td>...</td>\n",
       "      <td>...</td>\n",
       "      <td>...</td>\n",
       "      <td>...</td>\n",
       "    </tr>\n",
       "    <tr>\n",
       "      <th>186845</th>\n",
       "      <td>259353</td>\n",
       "      <td>AAA Batteries (4-pack)</td>\n",
       "      <td>3</td>\n",
       "      <td>2.99</td>\n",
       "      <td>09/17/19 20:56</td>\n",
       "      <td>840 Highland St, Los Angeles, CA 90001</td>\n",
       "    </tr>\n",
       "    <tr>\n",
       "      <th>186846</th>\n",
       "      <td>259354</td>\n",
       "      <td>iPhone</td>\n",
       "      <td>1</td>\n",
       "      <td>700</td>\n",
       "      <td>09/01/19 16:00</td>\n",
       "      <td>216 Dogwood St, San Francisco, CA 94016</td>\n",
       "    </tr>\n",
       "    <tr>\n",
       "      <th>186847</th>\n",
       "      <td>259355</td>\n",
       "      <td>iPhone</td>\n",
       "      <td>1</td>\n",
       "      <td>700</td>\n",
       "      <td>09/23/19 07:39</td>\n",
       "      <td>220 12th St, San Francisco, CA 94016</td>\n",
       "    </tr>\n",
       "    <tr>\n",
       "      <th>186848</th>\n",
       "      <td>259356</td>\n",
       "      <td>34in Ultrawide Monitor</td>\n",
       "      <td>1</td>\n",
       "      <td>379.99</td>\n",
       "      <td>09/19/19 17:30</td>\n",
       "      <td>511 Forest St, San Francisco, CA 94016</td>\n",
       "    </tr>\n",
       "    <tr>\n",
       "      <th>186849</th>\n",
       "      <td>259357</td>\n",
       "      <td>USB-C Charging Cable</td>\n",
       "      <td>1</td>\n",
       "      <td>11.95</td>\n",
       "      <td>09/30/19 00:18</td>\n",
       "      <td>250 Meadow St, San Francisco, CA 94016</td>\n",
       "    </tr>\n",
       "  </tbody>\n",
       "</table>\n",
       "<p>186850 rows × 6 columns</p>\n",
       "</div>"
      ],
      "text/plain": [
       "       Order ID                   Product Quantity Ordered Price Each  \\\n",
       "0        141234                    iPhone                1        700   \n",
       "1        141235  Lightning Charging Cable                1      14.95   \n",
       "2        141236          Wired Headphones                2      11.99   \n",
       "3        141237          27in FHD Monitor                1     149.99   \n",
       "4        141238          Wired Headphones                1      11.99   \n",
       "...         ...                       ...              ...        ...   \n",
       "186845   259353    AAA Batteries (4-pack)                3       2.99   \n",
       "186846   259354                    iPhone                1        700   \n",
       "186847   259355                    iPhone                1        700   \n",
       "186848   259356    34in Ultrawide Monitor                1     379.99   \n",
       "186849   259357      USB-C Charging Cable                1      11.95   \n",
       "\n",
       "            Order Date                         Purchase Address  \n",
       "0       01/22/19 21:25          944 Walnut St, Boston, MA 02215  \n",
       "1       01/28/19 14:15         185 Maple St, Portland, OR 97035  \n",
       "2       01/17/19 13:33    538 Adams St, San Francisco, CA 94016  \n",
       "3       01/05/19 20:33       738 10th St, Los Angeles, CA 90001  \n",
       "4       01/25/19 11:59            387 10th St, Austin, TX 73301  \n",
       "...                ...                                      ...  \n",
       "186845  09/17/19 20:56   840 Highland St, Los Angeles, CA 90001  \n",
       "186846  09/01/19 16:00  216 Dogwood St, San Francisco, CA 94016  \n",
       "186847  09/23/19 07:39     220 12th St, San Francisco, CA 94016  \n",
       "186848  09/19/19 17:30   511 Forest St, San Francisco, CA 94016  \n",
       "186849  09/30/19 00:18   250 Meadow St, San Francisco, CA 94016  \n",
       "\n",
       "[186850 rows x 6 columns]"
      ]
     },
     "execution_count": 3,
     "metadata": {},
     "output_type": "execute_result"
    }
   ],
   "source": [
    "df"
   ]
  },
  {
   "cell_type": "code",
   "execution_count": 4,
   "id": "839374e5",
   "metadata": {},
   "outputs": [
    {
     "name": "stdout",
     "output_type": "stream",
     "text": [
      "<class 'pandas.core.frame.DataFrame'>\n",
      "RangeIndex: 186850 entries, 0 to 186849\n",
      "Data columns (total 6 columns):\n",
      " #   Column            Non-Null Count   Dtype \n",
      "---  ------            --------------   ----- \n",
      " 0   Order ID          186305 non-null  object\n",
      " 1   Product           186305 non-null  object\n",
      " 2   Quantity Ordered  186305 non-null  object\n",
      " 3   Price Each        186305 non-null  object\n",
      " 4   Order Date        186305 non-null  object\n",
      " 5   Purchase Address  186305 non-null  object\n",
      "dtypes: object(6)\n",
      "memory usage: 8.6+ MB\n"
     ]
    }
   ],
   "source": [
    "df.info()"
   ]
  },
  {
   "cell_type": "markdown",
   "id": "43954c65",
   "metadata": {},
   "source": [
    "Drop N/A rows and change to appropriate data type"
   ]
  },
  {
   "cell_type": "code",
   "execution_count": 5,
   "id": "78b9e1aa",
   "metadata": {},
   "outputs": [],
   "source": [
    "df = df.dropna (how = 'all')"
   ]
  },
  {
   "cell_type": "code",
   "execution_count": 6,
   "id": "baa002c8",
   "metadata": {},
   "outputs": [],
   "source": [
    "df = df[df['Quantity Ordered'] != 'Quantity Ordered']"
   ]
  },
  {
   "cell_type": "code",
   "execution_count": 7,
   "id": "2720875c",
   "metadata": {},
   "outputs": [],
   "source": [
    "df['Quantity Ordered'] = pd.to_numeric(df['Quantity Ordered'])\n",
    "df['Price Each'] = pd.to_numeric(df['Price Each'])"
   ]
  },
  {
   "cell_type": "markdown",
   "id": "ea111fa1",
   "metadata": {},
   "source": [
    "## Task 2: Answer following questions:"
   ]
  },
  {
   "cell_type": "markdown",
   "id": "2a3b7165",
   "metadata": {},
   "source": [
    "#### 1./ What was the best month for sales? & How much earned that month? "
   ]
  },
  {
   "cell_type": "code",
   "execution_count": 8,
   "id": "3aa265e2",
   "metadata": {},
   "outputs": [
    {
     "data": {
      "text/plain": [
       "0         01\n",
       "1         01\n",
       "2         01\n",
       "3         01\n",
       "4         01\n",
       "          ..\n",
       "186845    09\n",
       "186846    09\n",
       "186847    09\n",
       "186848    09\n",
       "186849    09\n",
       "Name: Month, Length: 185950, dtype: object"
      ]
     },
     "execution_count": 8,
     "metadata": {},
     "output_type": "execute_result"
    }
   ],
   "source": [
    "## Add months Col\n",
    "\n",
    "df ['Month'] = df [\"Order Date\"].str.slice(start=0, stop=2)\n",
    "df ['Month']"
   ]
  },
  {
   "cell_type": "code",
   "execution_count": 9,
   "id": "337f0c27",
   "metadata": {},
   "outputs": [
    {
     "data": {
      "text/html": [
       "<div>\n",
       "<style scoped>\n",
       "    .dataframe tbody tr th:only-of-type {\n",
       "        vertical-align: middle;\n",
       "    }\n",
       "\n",
       "    .dataframe tbody tr th {\n",
       "        vertical-align: top;\n",
       "    }\n",
       "\n",
       "    .dataframe thead th {\n",
       "        text-align: right;\n",
       "    }\n",
       "</style>\n",
       "<table border=\"1\" class=\"dataframe\">\n",
       "  <thead>\n",
       "    <tr style=\"text-align: right;\">\n",
       "      <th></th>\n",
       "      <th>Order ID</th>\n",
       "      <th>Product</th>\n",
       "      <th>Quantity Ordered</th>\n",
       "      <th>Price Each</th>\n",
       "      <th>Order Date</th>\n",
       "      <th>Purchase Address</th>\n",
       "      <th>Month</th>\n",
       "    </tr>\n",
       "  </thead>\n",
       "  <tbody>\n",
       "  </tbody>\n",
       "</table>\n",
       "</div>"
      ],
      "text/plain": [
       "Empty DataFrame\n",
       "Columns: [Order ID, Product, Quantity Ordered, Price Each, Order Date, Purchase Address, Month]\n",
       "Index: []"
      ]
     },
     "execution_count": 9,
     "metadata": {},
     "output_type": "execute_result"
    }
   ],
   "source": [
    "df[df['Month'] == 'Or']"
   ]
  },
  {
   "cell_type": "code",
   "execution_count": 10,
   "id": "f156755a",
   "metadata": {},
   "outputs": [
    {
     "name": "stdout",
     "output_type": "stream",
     "text": [
      "{'06', '12', '07', '01', '05', '11', '03', '08', '04', '09', '02', '10'}\n"
     ]
    }
   ],
   "source": [
    "## check values from column month and clean data \n",
    "\n",
    "print (set(df ['Month']))"
   ]
  },
  {
   "cell_type": "code",
   "execution_count": 11,
   "id": "b2210697",
   "metadata": {},
   "outputs": [
    {
     "data": {
      "text/html": [
       "<div>\n",
       "<style scoped>\n",
       "    .dataframe tbody tr th:only-of-type {\n",
       "        vertical-align: middle;\n",
       "    }\n",
       "\n",
       "    .dataframe tbody tr th {\n",
       "        vertical-align: top;\n",
       "    }\n",
       "\n",
       "    .dataframe thead th {\n",
       "        text-align: right;\n",
       "    }\n",
       "</style>\n",
       "<table border=\"1\" class=\"dataframe\">\n",
       "  <thead>\n",
       "    <tr style=\"text-align: right;\">\n",
       "      <th></th>\n",
       "      <th>Order ID</th>\n",
       "      <th>Product</th>\n",
       "      <th>Quantity Ordered</th>\n",
       "      <th>Price Each</th>\n",
       "      <th>Order Date</th>\n",
       "      <th>Purchase Address</th>\n",
       "      <th>Month</th>\n",
       "    </tr>\n",
       "  </thead>\n",
       "  <tbody>\n",
       "  </tbody>\n",
       "</table>\n",
       "</div>"
      ],
      "text/plain": [
       "Empty DataFrame\n",
       "Columns: [Order ID, Product, Quantity Ordered, Price Each, Order Date, Purchase Address, Month]\n",
       "Index: []"
      ]
     },
     "execution_count": 11,
     "metadata": {},
     "output_type": "execute_result"
    }
   ],
   "source": [
    "df[df['Month'].isnull()]"
   ]
  },
  {
   "cell_type": "code",
   "execution_count": 12,
   "id": "1bc6715b",
   "metadata": {},
   "outputs": [
    {
     "data": {
      "text/html": [
       "<div>\n",
       "<style scoped>\n",
       "    .dataframe tbody tr th:only-of-type {\n",
       "        vertical-align: middle;\n",
       "    }\n",
       "\n",
       "    .dataframe tbody tr th {\n",
       "        vertical-align: top;\n",
       "    }\n",
       "\n",
       "    .dataframe thead th {\n",
       "        text-align: right;\n",
       "    }\n",
       "</style>\n",
       "<table border=\"1\" class=\"dataframe\">\n",
       "  <thead>\n",
       "    <tr style=\"text-align: right;\">\n",
       "      <th></th>\n",
       "      <th>Order ID</th>\n",
       "      <th>Product</th>\n",
       "      <th>Quantity Ordered</th>\n",
       "      <th>Price Each</th>\n",
       "      <th>Order Date</th>\n",
       "      <th>Purchase Address</th>\n",
       "      <th>Month</th>\n",
       "    </tr>\n",
       "  </thead>\n",
       "  <tbody>\n",
       "  </tbody>\n",
       "</table>\n",
       "</div>"
      ],
      "text/plain": [
       "Empty DataFrame\n",
       "Columns: [Order ID, Product, Quantity Ordered, Price Each, Order Date, Purchase Address, Month]\n",
       "Index: []"
      ]
     },
     "execution_count": 12,
     "metadata": {},
     "output_type": "execute_result"
    }
   ],
   "source": [
    "df[df['Month'] == 'Or']"
   ]
  },
  {
   "cell_type": "code",
   "execution_count": 13,
   "id": "4a5e14f2",
   "metadata": {},
   "outputs": [
    {
     "data": {
      "text/html": [
       "<div>\n",
       "<style scoped>\n",
       "    .dataframe tbody tr th:only-of-type {\n",
       "        vertical-align: middle;\n",
       "    }\n",
       "\n",
       "    .dataframe tbody tr th {\n",
       "        vertical-align: top;\n",
       "    }\n",
       "\n",
       "    .dataframe thead th {\n",
       "        text-align: right;\n",
       "    }\n",
       "</style>\n",
       "<table border=\"1\" class=\"dataframe\">\n",
       "  <thead>\n",
       "    <tr style=\"text-align: right;\">\n",
       "      <th></th>\n",
       "      <th>Order ID</th>\n",
       "      <th>Product</th>\n",
       "      <th>Quantity Ordered</th>\n",
       "      <th>Price Each</th>\n",
       "      <th>Order Date</th>\n",
       "      <th>Purchase Address</th>\n",
       "      <th>Month</th>\n",
       "      <th>Sales</th>\n",
       "    </tr>\n",
       "  </thead>\n",
       "  <tbody>\n",
       "    <tr>\n",
       "      <th>0</th>\n",
       "      <td>141234</td>\n",
       "      <td>iPhone</td>\n",
       "      <td>1</td>\n",
       "      <td>700.00</td>\n",
       "      <td>01/22/19 21:25</td>\n",
       "      <td>944 Walnut St, Boston, MA 02215</td>\n",
       "      <td>01</td>\n",
       "      <td>700.00</td>\n",
       "    </tr>\n",
       "    <tr>\n",
       "      <th>1</th>\n",
       "      <td>141235</td>\n",
       "      <td>Lightning Charging Cable</td>\n",
       "      <td>1</td>\n",
       "      <td>14.95</td>\n",
       "      <td>01/28/19 14:15</td>\n",
       "      <td>185 Maple St, Portland, OR 97035</td>\n",
       "      <td>01</td>\n",
       "      <td>14.95</td>\n",
       "    </tr>\n",
       "    <tr>\n",
       "      <th>2</th>\n",
       "      <td>141236</td>\n",
       "      <td>Wired Headphones</td>\n",
       "      <td>2</td>\n",
       "      <td>11.99</td>\n",
       "      <td>01/17/19 13:33</td>\n",
       "      <td>538 Adams St, San Francisco, CA 94016</td>\n",
       "      <td>01</td>\n",
       "      <td>23.98</td>\n",
       "    </tr>\n",
       "    <tr>\n",
       "      <th>3</th>\n",
       "      <td>141237</td>\n",
       "      <td>27in FHD Monitor</td>\n",
       "      <td>1</td>\n",
       "      <td>149.99</td>\n",
       "      <td>01/05/19 20:33</td>\n",
       "      <td>738 10th St, Los Angeles, CA 90001</td>\n",
       "      <td>01</td>\n",
       "      <td>149.99</td>\n",
       "    </tr>\n",
       "    <tr>\n",
       "      <th>4</th>\n",
       "      <td>141238</td>\n",
       "      <td>Wired Headphones</td>\n",
       "      <td>1</td>\n",
       "      <td>11.99</td>\n",
       "      <td>01/25/19 11:59</td>\n",
       "      <td>387 10th St, Austin, TX 73301</td>\n",
       "      <td>01</td>\n",
       "      <td>11.99</td>\n",
       "    </tr>\n",
       "  </tbody>\n",
       "</table>\n",
       "</div>"
      ],
      "text/plain": [
       "  Order ID                   Product  Quantity Ordered  Price Each  \\\n",
       "0   141234                    iPhone                 1      700.00   \n",
       "1   141235  Lightning Charging Cable                 1       14.95   \n",
       "2   141236          Wired Headphones                 2       11.99   \n",
       "3   141237          27in FHD Monitor                 1      149.99   \n",
       "4   141238          Wired Headphones                 1       11.99   \n",
       "\n",
       "       Order Date                       Purchase Address Month   Sales  \n",
       "0  01/22/19 21:25        944 Walnut St, Boston, MA 02215    01  700.00  \n",
       "1  01/28/19 14:15       185 Maple St, Portland, OR 97035    01   14.95  \n",
       "2  01/17/19 13:33  538 Adams St, San Francisco, CA 94016    01   23.98  \n",
       "3  01/05/19 20:33     738 10th St, Los Angeles, CA 90001    01  149.99  \n",
       "4  01/25/19 11:59          387 10th St, Austin, TX 73301    01   11.99  "
      ]
     },
     "execution_count": 13,
     "metadata": {},
     "output_type": "execute_result"
    }
   ],
   "source": [
    "df ['Sales'] = df['Quantity Ordered']*df['Price Each']\n",
    "df.head()"
   ]
  },
  {
   "cell_type": "code",
   "execution_count": 14,
   "id": "c3b75e93",
   "metadata": {},
   "outputs": [
    {
     "data": {
      "text/plain": [
       "Month\n",
       "01    1822256.73\n",
       "02    2202022.42\n",
       "03    2807100.38\n",
       "04    3390670.24\n",
       "05    3152606.75\n",
       "06    2577802.26\n",
       "07    2647775.76\n",
       "08    2244467.88\n",
       "09    2097560.13\n",
       "10    3736726.88\n",
       "11    3199603.20\n",
       "12    4613443.34\n",
       "Name: Sales, dtype: float64"
      ]
     },
     "execution_count": 14,
     "metadata": {},
     "output_type": "execute_result"
    }
   ],
   "source": [
    " sales = df.groupby(['Month']).sum('Sales')['Sales']\n",
    " sales"
   ]
  },
  {
   "cell_type": "markdown",
   "id": "7057050b",
   "metadata": {},
   "source": [
    "=> Month 12 is the best month for sales and the values is 461.344 USD"
   ]
  },
  {
   "cell_type": "code",
   "execution_count": 15,
   "id": "fb1e9528",
   "metadata": {},
   "outputs": [
    {
     "data": {
      "image/png": "[encoded data removed]",
      "text/plain": [
       "<Figure size 640x480 with 1 Axes>"
      ]
     },
     "metadata": {},
     "output_type": "display_data"
    }
   ],
   "source": [
    "months = range(1,13)\n",
    "\n",
    "plt.bar(x=months, height = sales)\n",
    "plt.title('Sales per month')\n",
    "plt.xticks(months)\n",
    "plt.xlabel('Month')\n",
    "plt.ylabel('Sales')\n",
    "plt.show()"
   ]
  },
  {
   "cell_type": "markdown",
   "id": "b9d6698f",
   "metadata": {},
   "source": [
    "#### 2./ What City have highest sales? & How much? "
   ]
  },
  {
   "cell_type": "code",
   "execution_count": 16,
   "id": "90590762",
   "metadata": {},
   "outputs": [
    {
     "data": {
      "text/plain": [
       "0                 Boston\n",
       "1               Portland\n",
       "2          San Francisco\n",
       "3            Los Angeles\n",
       "4                 Austin\n",
       "               ...      \n",
       "186845       Los Angeles\n",
       "186846     San Francisco\n",
       "186847     San Francisco\n",
       "186848     San Francisco\n",
       "186849     San Francisco\n",
       "Name: City, Length: 185950, dtype: object"
      ]
     },
     "execution_count": 16,
     "metadata": {},
     "output_type": "execute_result"
    }
   ],
   "source": [
    "df['City'] = df['Purchase Address'].str.split(',', expand = True)[1]\n",
    "df['City']"
   ]
  },
  {
   "cell_type": "code",
   "execution_count": 17,
   "id": "a0249048",
   "metadata": {},
   "outputs": [
    {
     "name": "stdout",
     "output_type": "stream",
     "text": [
      "{' Atlanta', ' San Francisco', ' Dallas', ' Seattle', ' Los Angeles', ' Austin', ' New York City', ' Portland', ' Boston'}\n"
     ]
    }
   ],
   "source": [
    "print (set(df ['City']))"
   ]
  },
  {
   "cell_type": "code",
   "execution_count": 114,
   "id": "a2c9d960",
   "metadata": {},
   "outputs": [
    {
     "data": {
      "text/plain": [
       "City\n",
       " San Francisco    8262203.91\n",
       " Los Angeles      5452570.80\n",
       " New York City    4664317.43\n",
       " Boston           3661642.01\n",
       " Atlanta          2795498.58\n",
       " Dallas           2767975.40\n",
       " Seattle          2747755.48\n",
       " Portland         2320490.61\n",
       " Austin           1819581.75\n",
       "Name: Sales, dtype: float64"
      ]
     },
     "execution_count": 114,
     "metadata": {},
     "output_type": "execute_result"
    }
   ],
   "source": [
    "City_sales = df.groupby(['City'])['Sales'].sum().nlargest(10)\n",
    "City_sales"
   ]
  },
  {
   "cell_type": "code",
   "execution_count": 116,
   "id": "796e6edd",
   "metadata": {},
   "outputs": [
    {
     "data": {
      "image/png": "[encoded data removed]",
      "text/plain": [
       "<Figure size 640x480 with 1 Axes>"
      ]
     },
     "metadata": {},
     "output_type": "display_data"
    }
   ],
   "source": [
    "city = df ['City'].unique()\n",
    "\n",
    "plt.bar(x=city, height = City_sales, width = 0.6 )\n",
    "plt.title('Sales per City')\n",
    "plt.xticks(city, rotation=60)\n",
    "plt.xlabel('City')\n",
    "plt.ylabel('Sales')\n",
    "\n",
    "plt.show()"
   ]
  },
  {
   "cell_type": "markdown",
   "id": "75337cb4",
   "metadata": {},
   "source": [
    "#### 3./ What time should we display ads to maximize the likelihood of customer's buying products?"
   ]
  },
  {
   "cell_type": "code",
   "execution_count": 48,
   "id": "0d1c37b3",
   "metadata": {},
   "outputs": [
    {
     "data": {
      "text/plain": [
       "0        2019-01-22 21:25:00\n",
       "1        2019-01-28 14:15:00\n",
       "2        2019-01-17 13:33:00\n",
       "3        2019-01-05 20:33:00\n",
       "4        2019-01-25 11:59:00\n",
       "                 ...        \n",
       "186845   2019-09-17 20:56:00\n",
       "186846   2019-09-01 16:00:00\n",
       "186847   2019-09-23 07:39:00\n",
       "186848   2019-09-19 17:30:00\n",
       "186849   2019-09-30 00:18:00\n",
       "Name: Order Date, Length: 185950, dtype: datetime64[ns]"
      ]
     },
     "execution_count": 48,
     "metadata": {},
     "output_type": "execute_result"
    }
   ],
   "source": [
    "df['Order Date'] =  pd.to_datetime(df['Order Date'])\n",
    "df['Order Date']"
   ]
  },
  {
   "cell_type": "code",
   "execution_count": 51,
   "id": "432a9bcc",
   "metadata": {},
   "outputs": [],
   "source": [
    "df['hour'] = df['Order Date'].dt.hour"
   ]
  },
  {
   "cell_type": "code",
   "execution_count": 63,
   "id": "30250803",
   "metadata": {},
   "outputs": [
    {
     "data": {
      "text/plain": [
       "hour\n",
       "0      3910\n",
       "1      2350\n",
       "2      1243\n",
       "3       831\n",
       "4       854\n",
       "5      1321\n",
       "6      2482\n",
       "7      4011\n",
       "8      6256\n",
       "9      8748\n",
       "10    10944\n",
       "11    12411\n",
       "12    12587\n",
       "13    12129\n",
       "14    10984\n",
       "15    10175\n",
       "16    10384\n",
       "17    10899\n",
       "18    12280\n",
       "19    12905\n",
       "20    12228\n",
       "21    10921\n",
       "22     8822\n",
       "23     6275\n",
       "Name: Sales, dtype: int64"
      ]
     },
     "execution_count": 63,
     "metadata": {},
     "output_type": "execute_result"
    }
   ],
   "source": [
    "hour_sales = df.groupby(['hour']).count()['Sales']\n",
    "hour_sales"
   ]
  },
  {
   "cell_type": "code",
   "execution_count": 64,
   "id": "9f3fe009",
   "metadata": {},
   "outputs": [
    {
     "data": {
      "image/png": "[encoded data removed]",
      "text/plain": [
       "<Figure size 640x480 with 1 Axes>"
      ]
     },
     "metadata": {},
     "output_type": "display_data"
    }
   ],
   "source": [
    "hours = [hour for hour , sales in hour_sales.items()]\n",
    "\n",
    "plt.plot(hours, hour_sales)\n",
    "plt.grid(axis = 'x')\n",
    "plt.title('Sales per hour')\n",
    "plt.xticks(hours)\n",
    "plt.xlabel('Hour')\n",
    "plt.ylabel('Sales')\n",
    "plt.show()"
   ]
  },
  {
   "cell_type": "markdown",
   "id": "af26bf35",
   "metadata": {},
   "source": [
    "=> We should display add during 11-12am and 18-19pm as these are times that have the most order"
   ]
  },
  {
   "cell_type": "markdown",
   "id": "ebd729eb",
   "metadata": {},
   "source": [
    "#### 4./ What product are most often sold together?"
   ]
  },
  {
   "cell_type": "code",
   "execution_count": 65,
   "id": "713873e4",
   "metadata": {},
   "outputs": [
    {
     "data": {
      "text/html": [
       "<div>\n",
       "<style scoped>\n",
       "    .dataframe tbody tr th:only-of-type {\n",
       "        vertical-align: middle;\n",
       "    }\n",
       "\n",
       "    .dataframe tbody tr th {\n",
       "        vertical-align: top;\n",
       "    }\n",
       "\n",
       "    .dataframe thead th {\n",
       "        text-align: right;\n",
       "    }\n",
       "</style>\n",
       "<table border=\"1\" class=\"dataframe\">\n",
       "  <thead>\n",
       "    <tr style=\"text-align: right;\">\n",
       "      <th></th>\n",
       "      <th>Order ID</th>\n",
       "      <th>Product</th>\n",
       "      <th>Quantity Ordered</th>\n",
       "      <th>Price Each</th>\n",
       "      <th>Order Date</th>\n",
       "      <th>Purchase Address</th>\n",
       "      <th>Month</th>\n",
       "      <th>Sales</th>\n",
       "      <th>City</th>\n",
       "      <th>hour</th>\n",
       "    </tr>\n",
       "  </thead>\n",
       "  <tbody>\n",
       "    <tr>\n",
       "      <th>0</th>\n",
       "      <td>141234</td>\n",
       "      <td>iPhone</td>\n",
       "      <td>1</td>\n",
       "      <td>700.00</td>\n",
       "      <td>2019-01-22 21:25:00</td>\n",
       "      <td>944 Walnut St, Boston, MA 02215</td>\n",
       "      <td>01</td>\n",
       "      <td>700.00</td>\n",
       "      <td>Boston</td>\n",
       "      <td>21</td>\n",
       "    </tr>\n",
       "    <tr>\n",
       "      <th>1</th>\n",
       "      <td>141235</td>\n",
       "      <td>Lightning Charging Cable</td>\n",
       "      <td>1</td>\n",
       "      <td>14.95</td>\n",
       "      <td>2019-01-28 14:15:00</td>\n",
       "      <td>185 Maple St, Portland, OR 97035</td>\n",
       "      <td>01</td>\n",
       "      <td>14.95</td>\n",
       "      <td>Portland</td>\n",
       "      <td>14</td>\n",
       "    </tr>\n",
       "    <tr>\n",
       "      <th>2</th>\n",
       "      <td>141236</td>\n",
       "      <td>Wired Headphones</td>\n",
       "      <td>2</td>\n",
       "      <td>11.99</td>\n",
       "      <td>2019-01-17 13:33:00</td>\n",
       "      <td>538 Adams St, San Francisco, CA 94016</td>\n",
       "      <td>01</td>\n",
       "      <td>23.98</td>\n",
       "      <td>San Francisco</td>\n",
       "      <td>13</td>\n",
       "    </tr>\n",
       "    <tr>\n",
       "      <th>3</th>\n",
       "      <td>141237</td>\n",
       "      <td>27in FHD Monitor</td>\n",
       "      <td>1</td>\n",
       "      <td>149.99</td>\n",
       "      <td>2019-01-05 20:33:00</td>\n",
       "      <td>738 10th St, Los Angeles, CA 90001</td>\n",
       "      <td>01</td>\n",
       "      <td>149.99</td>\n",
       "      <td>Los Angeles</td>\n",
       "      <td>20</td>\n",
       "    </tr>\n",
       "    <tr>\n",
       "      <th>4</th>\n",
       "      <td>141238</td>\n",
       "      <td>Wired Headphones</td>\n",
       "      <td>1</td>\n",
       "      <td>11.99</td>\n",
       "      <td>2019-01-25 11:59:00</td>\n",
       "      <td>387 10th St, Austin, TX 73301</td>\n",
       "      <td>01</td>\n",
       "      <td>11.99</td>\n",
       "      <td>Austin</td>\n",
       "      <td>11</td>\n",
       "    </tr>\n",
       "  </tbody>\n",
       "</table>\n",
       "</div>"
      ],
      "text/plain": [
       "  Order ID                   Product  Quantity Ordered  Price Each  \\\n",
       "0   141234                    iPhone                 1      700.00   \n",
       "1   141235  Lightning Charging Cable                 1       14.95   \n",
       "2   141236          Wired Headphones                 2       11.99   \n",
       "3   141237          27in FHD Monitor                 1      149.99   \n",
       "4   141238          Wired Headphones                 1       11.99   \n",
       "\n",
       "           Order Date                       Purchase Address Month   Sales  \\\n",
       "0 2019-01-22 21:25:00        944 Walnut St, Boston, MA 02215    01  700.00   \n",
       "1 2019-01-28 14:15:00       185 Maple St, Portland, OR 97035    01   14.95   \n",
       "2 2019-01-17 13:33:00  538 Adams St, San Francisco, CA 94016    01   23.98   \n",
       "3 2019-01-05 20:33:00     738 10th St, Los Angeles, CA 90001    01  149.99   \n",
       "4 2019-01-25 11:59:00          387 10th St, Austin, TX 73301    01   11.99   \n",
       "\n",
       "             City  hour  \n",
       "0          Boston    21  \n",
       "1        Portland    14  \n",
       "2   San Francisco    13  \n",
       "3     Los Angeles    20  \n",
       "4          Austin    11  "
      ]
     },
     "execution_count": 65,
     "metadata": {},
     "output_type": "execute_result"
    }
   ],
   "source": [
    "df.head()"
   ]
  },
  {
   "cell_type": "code",
   "execution_count": 73,
   "id": "1192f247",
   "metadata": {},
   "outputs": [
    {
     "data": {
      "text/html": [
       "<div>\n",
       "<style scoped>\n",
       "    .dataframe tbody tr th:only-of-type {\n",
       "        vertical-align: middle;\n",
       "    }\n",
       "\n",
       "    .dataframe tbody tr th {\n",
       "        vertical-align: top;\n",
       "    }\n",
       "\n",
       "    .dataframe thead th {\n",
       "        text-align: right;\n",
       "    }\n",
       "</style>\n",
       "<table border=\"1\" class=\"dataframe\">\n",
       "  <thead>\n",
       "    <tr style=\"text-align: right;\">\n",
       "      <th></th>\n",
       "      <th>Order ID</th>\n",
       "      <th>Product</th>\n",
       "      <th>Quantity Ordered</th>\n",
       "      <th>Price Each</th>\n",
       "      <th>Order Date</th>\n",
       "      <th>Purchase Address</th>\n",
       "      <th>Month</th>\n",
       "      <th>Sales</th>\n",
       "      <th>City</th>\n",
       "      <th>hour</th>\n",
       "    </tr>\n",
       "  </thead>\n",
       "  <tbody>\n",
       "    <tr>\n",
       "      <th>41</th>\n",
       "      <td>141275</td>\n",
       "      <td>USB-C Charging Cable</td>\n",
       "      <td>1</td>\n",
       "      <td>11.95</td>\n",
       "      <td>2019-01-07 16:06:00</td>\n",
       "      <td>610 Walnut St, Austin, TX 73301</td>\n",
       "      <td>01</td>\n",
       "      <td>11.95</td>\n",
       "      <td>Austin</td>\n",
       "      <td>16</td>\n",
       "    </tr>\n",
       "    <tr>\n",
       "      <th>42</th>\n",
       "      <td>141275</td>\n",
       "      <td>Wired Headphones</td>\n",
       "      <td>1</td>\n",
       "      <td>11.99</td>\n",
       "      <td>2019-01-07 16:06:00</td>\n",
       "      <td>610 Walnut St, Austin, TX 73301</td>\n",
       "      <td>01</td>\n",
       "      <td>11.99</td>\n",
       "      <td>Austin</td>\n",
       "      <td>16</td>\n",
       "    </tr>\n",
       "    <tr>\n",
       "      <th>57</th>\n",
       "      <td>141290</td>\n",
       "      <td>Apple Airpods Headphones</td>\n",
       "      <td>1</td>\n",
       "      <td>150.00</td>\n",
       "      <td>2019-01-02 08:25:00</td>\n",
       "      <td>4 1st St, Los Angeles, CA 90001</td>\n",
       "      <td>01</td>\n",
       "      <td>150.00</td>\n",
       "      <td>Los Angeles</td>\n",
       "      <td>8</td>\n",
       "    </tr>\n",
       "    <tr>\n",
       "      <th>58</th>\n",
       "      <td>141290</td>\n",
       "      <td>AA Batteries (4-pack)</td>\n",
       "      <td>3</td>\n",
       "      <td>3.84</td>\n",
       "      <td>2019-01-02 08:25:00</td>\n",
       "      <td>4 1st St, Los Angeles, CA 90001</td>\n",
       "      <td>01</td>\n",
       "      <td>11.52</td>\n",
       "      <td>Los Angeles</td>\n",
       "      <td>8</td>\n",
       "    </tr>\n",
       "    <tr>\n",
       "      <th>133</th>\n",
       "      <td>141365</td>\n",
       "      <td>Vareebadd Phone</td>\n",
       "      <td>1</td>\n",
       "      <td>400.00</td>\n",
       "      <td>2019-01-10 11:19:00</td>\n",
       "      <td>20 Dogwood St, New York City, NY 10001</td>\n",
       "      <td>01</td>\n",
       "      <td>400.00</td>\n",
       "      <td>New York City</td>\n",
       "      <td>11</td>\n",
       "    </tr>\n",
       "    <tr>\n",
       "      <th>...</th>\n",
       "      <td>...</td>\n",
       "      <td>...</td>\n",
       "      <td>...</td>\n",
       "      <td>...</td>\n",
       "      <td>...</td>\n",
       "      <td>...</td>\n",
       "      <td>...</td>\n",
       "      <td>...</td>\n",
       "      <td>...</td>\n",
       "      <td>...</td>\n",
       "    </tr>\n",
       "    <tr>\n",
       "      <th>186792</th>\n",
       "      <td>259303</td>\n",
       "      <td>AA Batteries (4-pack)</td>\n",
       "      <td>1</td>\n",
       "      <td>3.84</td>\n",
       "      <td>2019-09-20 20:18:00</td>\n",
       "      <td>106 7th St, Atlanta, GA 30301</td>\n",
       "      <td>09</td>\n",
       "      <td>3.84</td>\n",
       "      <td>Atlanta</td>\n",
       "      <td>20</td>\n",
       "    </tr>\n",
       "    <tr>\n",
       "      <th>186803</th>\n",
       "      <td>259314</td>\n",
       "      <td>Wired Headphones</td>\n",
       "      <td>1</td>\n",
       "      <td>11.99</td>\n",
       "      <td>2019-09-16 00:25:00</td>\n",
       "      <td>241 Highland St, Atlanta, GA 30301</td>\n",
       "      <td>09</td>\n",
       "      <td>11.99</td>\n",
       "      <td>Atlanta</td>\n",
       "      <td>0</td>\n",
       "    </tr>\n",
       "    <tr>\n",
       "      <th>186804</th>\n",
       "      <td>259314</td>\n",
       "      <td>AAA Batteries (4-pack)</td>\n",
       "      <td>2</td>\n",
       "      <td>2.99</td>\n",
       "      <td>2019-09-16 00:25:00</td>\n",
       "      <td>241 Highland St, Atlanta, GA 30301</td>\n",
       "      <td>09</td>\n",
       "      <td>5.98</td>\n",
       "      <td>Atlanta</td>\n",
       "      <td>0</td>\n",
       "    </tr>\n",
       "    <tr>\n",
       "      <th>186841</th>\n",
       "      <td>259350</td>\n",
       "      <td>Google Phone</td>\n",
       "      <td>1</td>\n",
       "      <td>600.00</td>\n",
       "      <td>2019-09-30 13:49:00</td>\n",
       "      <td>519 Maple St, San Francisco, CA 94016</td>\n",
       "      <td>09</td>\n",
       "      <td>600.00</td>\n",
       "      <td>San Francisco</td>\n",
       "      <td>13</td>\n",
       "    </tr>\n",
       "    <tr>\n",
       "      <th>186842</th>\n",
       "      <td>259350</td>\n",
       "      <td>USB-C Charging Cable</td>\n",
       "      <td>1</td>\n",
       "      <td>11.95</td>\n",
       "      <td>2019-09-30 13:49:00</td>\n",
       "      <td>519 Maple St, San Francisco, CA 94016</td>\n",
       "      <td>09</td>\n",
       "      <td>11.95</td>\n",
       "      <td>San Francisco</td>\n",
       "      <td>13</td>\n",
       "    </tr>\n",
       "  </tbody>\n",
       "</table>\n",
       "<p>14649 rows × 10 columns</p>\n",
       "</div>"
      ],
      "text/plain": [
       "       Order ID                   Product  Quantity Ordered  Price Each  \\\n",
       "41       141275      USB-C Charging Cable                 1       11.95   \n",
       "42       141275          Wired Headphones                 1       11.99   \n",
       "57       141290  Apple Airpods Headphones                 1      150.00   \n",
       "58       141290     AA Batteries (4-pack)                 3        3.84   \n",
       "133      141365           Vareebadd Phone                 1      400.00   \n",
       "...         ...                       ...               ...         ...   \n",
       "186792   259303     AA Batteries (4-pack)                 1        3.84   \n",
       "186803   259314          Wired Headphones                 1       11.99   \n",
       "186804   259314    AAA Batteries (4-pack)                 2        2.99   \n",
       "186841   259350              Google Phone                 1      600.00   \n",
       "186842   259350      USB-C Charging Cable                 1       11.95   \n",
       "\n",
       "                Order Date                        Purchase Address Month  \\\n",
       "41     2019-01-07 16:06:00         610 Walnut St, Austin, TX 73301    01   \n",
       "42     2019-01-07 16:06:00         610 Walnut St, Austin, TX 73301    01   \n",
       "57     2019-01-02 08:25:00         4 1st St, Los Angeles, CA 90001    01   \n",
       "58     2019-01-02 08:25:00         4 1st St, Los Angeles, CA 90001    01   \n",
       "133    2019-01-10 11:19:00  20 Dogwood St, New York City, NY 10001    01   \n",
       "...                    ...                                     ...   ...   \n",
       "186792 2019-09-20 20:18:00           106 7th St, Atlanta, GA 30301    09   \n",
       "186803 2019-09-16 00:25:00      241 Highland St, Atlanta, GA 30301    09   \n",
       "186804 2019-09-16 00:25:00      241 Highland St, Atlanta, GA 30301    09   \n",
       "186841 2019-09-30 13:49:00   519 Maple St, San Francisco, CA 94016    09   \n",
       "186842 2019-09-30 13:49:00   519 Maple St, San Francisco, CA 94016    09   \n",
       "\n",
       "         Sales            City  hour  \n",
       "41       11.95          Austin    16  \n",
       "42       11.99          Austin    16  \n",
       "57      150.00     Los Angeles     8  \n",
       "58       11.52     Los Angeles     8  \n",
       "133     400.00   New York City    11  \n",
       "...        ...             ...   ...  \n",
       "186792    3.84         Atlanta    20  \n",
       "186803   11.99         Atlanta     0  \n",
       "186804    5.98         Atlanta     0  \n",
       "186841  600.00   San Francisco    13  \n",
       "186842   11.95   San Francisco    13  \n",
       "\n",
       "[14649 rows x 10 columns]"
      ]
     },
     "execution_count": 73,
     "metadata": {},
     "output_type": "execute_result"
    }
   ],
   "source": [
    "df_dup = df[df['Order ID'].duplicated(keep = False)]\n",
    "df_dup"
   ]
  },
  {
   "cell_type": "code",
   "execution_count": 90,
   "id": "bade54e6",
   "metadata": {},
   "outputs": [
    {
     "name": "stderr",
     "output_type": "stream",
     "text": [
      "C:\\Users\\Acer\\AppData\\Local\\Temp\\ipykernel_8980\\2693829322.py:1: SettingWithCopyWarning: \n",
      "A value is trying to be set on a copy of a slice from a DataFrame.\n",
      "Try using .loc[row_indexer,col_indexer] = value instead\n",
      "\n",
      "See the caveats in the documentation: https://pandas.pydata.org/pandas-docs/stable/user_guide/indexing.html#returning-a-view-versus-a-copy\n",
      "  df_dup['Products'] = df_dup.groupby(['Order ID'])['Product'].transform(lambda x: ','.join(x))\n"
     ]
    },
    {
     "data": {
      "text/plain": [
       "41                 USB-C Charging Cable,Wired Headphones\n",
       "57        Apple Airpods Headphones,AA Batteries (4-pack)\n",
       "133                     Vareebadd Phone,Wired Headphones\n",
       "153                    Google Phone,USB-C Charging Cable\n",
       "220              Google Phone,Bose SoundSport Headphones\n",
       "                               ...                      \n",
       "170166                               20in Monitor,iPhone\n",
       "175032                          LG Dryer,Vareebadd Phone\n",
       "176840                 LG Dryer,Lightning Charging Cable\n",
       "177793                          ThinkPad Laptop,LG Dryer\n",
       "180004          LG Washing Machine,AA Batteries (4-pack)\n",
       "Name: Products, Length: 366, dtype: object"
      ]
     },
     "execution_count": 90,
     "metadata": {},
     "output_type": "execute_result"
    }
   ],
   "source": [
    "df_dup['Products'] = df_dup.groupby(['Order ID'])['Product'].transform(lambda x: ','.join(x))\n",
    "df_dup['Products'].drop_duplicates()"
   ]
  },
  {
   "cell_type": "code",
   "execution_count": 85,
   "id": "2e1fb6f0",
   "metadata": {},
   "outputs": [
    {
     "data": {
      "text/html": [
       "<div>\n",
       "<style scoped>\n",
       "    .dataframe tbody tr th:only-of-type {\n",
       "        vertical-align: middle;\n",
       "    }\n",
       "\n",
       "    .dataframe tbody tr th {\n",
       "        vertical-align: top;\n",
       "    }\n",
       "\n",
       "    .dataframe thead th {\n",
       "        text-align: right;\n",
       "    }\n",
       "</style>\n",
       "<table border=\"1\" class=\"dataframe\">\n",
       "  <thead>\n",
       "    <tr style=\"text-align: right;\">\n",
       "      <th></th>\n",
       "      <th>Order ID</th>\n",
       "      <th>Products</th>\n",
       "    </tr>\n",
       "  </thead>\n",
       "  <tbody>\n",
       "    <tr>\n",
       "      <th>41</th>\n",
       "      <td>141275</td>\n",
       "      <td>USB-C Charging Cable,Wired Headphones</td>\n",
       "    </tr>\n",
       "    <tr>\n",
       "      <th>57</th>\n",
       "      <td>141290</td>\n",
       "      <td>Apple Airpods Headphones,AA Batteries (4-pack)</td>\n",
       "    </tr>\n",
       "    <tr>\n",
       "      <th>133</th>\n",
       "      <td>141365</td>\n",
       "      <td>Vareebadd Phone,Wired Headphones</td>\n",
       "    </tr>\n",
       "    <tr>\n",
       "      <th>153</th>\n",
       "      <td>141384</td>\n",
       "      <td>Google Phone,USB-C Charging Cable</td>\n",
       "    </tr>\n",
       "    <tr>\n",
       "      <th>220</th>\n",
       "      <td>141450</td>\n",
       "      <td>Google Phone,Bose SoundSport Headphones</td>\n",
       "    </tr>\n",
       "    <tr>\n",
       "      <th>...</th>\n",
       "      <td>...</td>\n",
       "      <td>...</td>\n",
       "    </tr>\n",
       "    <tr>\n",
       "      <th>186781</th>\n",
       "      <td>259296</td>\n",
       "      <td>Apple Airpods Headphones,Apple Airpods Headphones</td>\n",
       "    </tr>\n",
       "    <tr>\n",
       "      <th>186783</th>\n",
       "      <td>259297</td>\n",
       "      <td>iPhone,Lightning Charging Cable,Lightning Char...</td>\n",
       "    </tr>\n",
       "    <tr>\n",
       "      <th>186791</th>\n",
       "      <td>259303</td>\n",
       "      <td>34in Ultrawide Monitor,AA Batteries (4-pack)</td>\n",
       "    </tr>\n",
       "    <tr>\n",
       "      <th>186803</th>\n",
       "      <td>259314</td>\n",
       "      <td>Wired Headphones,AAA Batteries (4-pack)</td>\n",
       "    </tr>\n",
       "    <tr>\n",
       "      <th>186841</th>\n",
       "      <td>259350</td>\n",
       "      <td>Google Phone,USB-C Charging Cable</td>\n",
       "    </tr>\n",
       "  </tbody>\n",
       "</table>\n",
       "<p>7136 rows × 2 columns</p>\n",
       "</div>"
      ],
      "text/plain": [
       "       Order ID                                           Products\n",
       "41       141275              USB-C Charging Cable,Wired Headphones\n",
       "57       141290     Apple Airpods Headphones,AA Batteries (4-pack)\n",
       "133      141365                   Vareebadd Phone,Wired Headphones\n",
       "153      141384                  Google Phone,USB-C Charging Cable\n",
       "220      141450            Google Phone,Bose SoundSport Headphones\n",
       "...         ...                                                ...\n",
       "186781   259296  Apple Airpods Headphones,Apple Airpods Headphones\n",
       "186783   259297  iPhone,Lightning Charging Cable,Lightning Char...\n",
       "186791   259303       34in Ultrawide Monitor,AA Batteries (4-pack)\n",
       "186803   259314            Wired Headphones,AAA Batteries (4-pack)\n",
       "186841   259350                  Google Phone,USB-C Charging Cable\n",
       "\n",
       "[7136 rows x 2 columns]"
      ]
     },
     "execution_count": 85,
     "metadata": {},
     "output_type": "execute_result"
    }
   ],
   "source": [
    "Products = df_dup[['Order ID', 'Products']].drop_duplicates()\n",
    "Products"
   ]
  },
  {
   "cell_type": "code",
   "execution_count": 89,
   "id": "f16df574",
   "metadata": {},
   "outputs": [
    {
     "data": {
      "text/plain": [
       "iPhone,Lightning Charging Cable                       882\n",
       "Google Phone,USB-C Charging Cable                     856\n",
       "iPhone,Wired Headphones                               361\n",
       "Vareebadd Phone,USB-C Charging Cable                  312\n",
       "Google Phone,Wired Headphones                         303\n",
       "iPhone,Apple Airpods Headphones                       286\n",
       "Google Phone,Bose SoundSport Headphones               161\n",
       "Vareebadd Phone,Wired Headphones                      104\n",
       "Google Phone,USB-C Charging Cable,Wired Headphones     77\n",
       "Vareebadd Phone,Bose SoundSport Headphones             60\n",
       "Name: Products, dtype: int64"
      ]
     },
     "execution_count": 89,
     "metadata": {},
     "output_type": "execute_result"
    }
   ],
   "source": [
    "Products['Products'].value_counts().head(10)"
   ]
  },
  {
   "cell_type": "markdown",
   "id": "6da84391",
   "metadata": {},
   "source": [
    "#### 5./ What are the most sales products? "
   ]
  },
  {
   "cell_type": "code",
   "execution_count": 107,
   "id": "1df38912",
   "metadata": {},
   "outputs": [
    {
     "data": {
      "text/plain": [
       "Product\n",
       "AAA Batteries (4-pack)        31017\n",
       "AA Batteries (4-pack)         27635\n",
       "USB-C Charging Cable          23975\n",
       "Lightning Charging Cable      23217\n",
       "Wired Headphones              20557\n",
       "Apple Airpods Headphones      15661\n",
       "Bose SoundSport Headphones    13457\n",
       "27in FHD Monitor               7550\n",
       "iPhone                         6849\n",
       "27in 4K Gaming Monitor         6244\n",
       "34in Ultrawide Monitor         6199\n",
       "Google Phone                   5532\n",
       "Flatscreen TV                  4819\n",
       "Macbook Pro Laptop             4728\n",
       "ThinkPad Laptop                4130\n",
       "20in Monitor                   4129\n",
       "Vareebadd Phone                2068\n",
       "LG Washing Machine              666\n",
       "LG Dryer                        646\n",
       "Name: Quantity Ordered, dtype: int64"
      ]
     },
     "execution_count": 107,
     "metadata": {},
     "output_type": "execute_result"
    }
   ],
   "source": [
    "product_sold = df.groupby('Product').sum()['Quantity Ordered'].nlargest(20)\n",
    "product_sold "
   ]
  },
  {
   "cell_type": "code",
   "execution_count": 113,
   "id": "8d20f9ae",
   "metadata": {},
   "outputs": [
    {
     "data": {
      "image/png": "[encoded data removed]",
      "text/plain": [
       "<Figure size 640x480 with 1 Axes>"
      ]
     },
     "metadata": {},
     "output_type": "display_data"
    }
   ],
   "source": [
    "Products = [Product for Product , Quantity in product_sold.items()]\n",
    "\n",
    "plt.bar(Products, product_sold )\n",
    "plt.title('Products Quantity')\n",
    "plt.xticks(Products, rotation=90)\n",
    "plt.xlabel('Products')\n",
    "plt.ylabel('Quantity')\n",
    "\n",
    "plt.show()"
   ]
  }
 ],
 "metadata": {
  "kernelspec": {
   "display_name": "Python 3 (ipykernel)",
   "language": "python",
   "name": "python3"
  },
  "language_info": {
   "codemirror_mode": {
    "name": "ipython",
    "version": 3
   },
   "file_extension": ".py",
   "mimetype": "text/x-python",
   "name": "python",
   "nbconvert_exporter": "python",
   "pygments_lexer": "ipython3",
   "version": "3.9.13"
  }
 },
 "nbformat": 4,
 "nbformat_minor": 5
}
